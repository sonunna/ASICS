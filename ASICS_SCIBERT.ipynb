{
 "cells": [
  {
   "cell_type": "code",
   "execution_count": 1,
   "id": "25fe392f",
   "metadata": {},
   "outputs": [
    {
     "data": {
      "text/html": [
       "<div>\n",
       "<style scoped>\n",
       "    .dataframe tbody tr th:only-of-type {\n",
       "        vertical-align: middle;\n",
       "    }\n",
       "\n",
       "    .dataframe tbody tr th {\n",
       "        vertical-align: top;\n",
       "    }\n",
       "\n",
       "    .dataframe thead th {\n",
       "        text-align: right;\n",
       "    }\n",
       "</style>\n",
       "<table border=\"1\" class=\"dataframe\">\n",
       "  <thead>\n",
       "    <tr style=\"text-align: right;\">\n",
       "      <th></th>\n",
       "      <th>product_name</th>\n",
       "      <th>manufacturer</th>\n",
       "      <th>cleaned_datasheet_text</th>\n",
       "      <th>category</th>\n",
       "    </tr>\n",
       "  </thead>\n",
       "  <tbody>\n",
       "    <tr>\n",
       "      <th>0</th>\n",
       "      <td>ADBMS6948</td>\n",
       "      <td>Analog Devices</td>\n",
       "      <td>preliminary data measures up to battery cells ...</td>\n",
       "      <td>batteryManagement</td>\n",
       "    </tr>\n",
       "    <tr>\n",
       "      <th>1</th>\n",
       "      <td>ADBMS6830</td>\n",
       "      <td>Analog Devices</td>\n",
       "      <td>data multicell battery monitor typical applica...</td>\n",
       "      <td>batteryManagement</td>\n",
       "    </tr>\n",
       "    <tr>\n",
       "      <th>2</th>\n",
       "      <td>ADRF8800</td>\n",
       "      <td>Analog Devices</td>\n",
       "      <td>data low power ghz wireless system on chip low...</td>\n",
       "      <td>batteryManagement</td>\n",
       "    </tr>\n",
       "    <tr>\n",
       "      <th>3</th>\n",
       "      <td>ADBMS6816</td>\n",
       "      <td>Analog Devices</td>\n",
       "      <td>typical application circuit data multicell bat...</td>\n",
       "      <td>batteryManagement</td>\n",
       "    </tr>\n",
       "    <tr>\n",
       "      <th>4</th>\n",
       "      <td>LTC2959</td>\n",
       "      <td>Analog Devices</td>\n",
       "      <td>power battery gas gauge descriptionthe is an p...</td>\n",
       "      <td>batteryManagement</td>\n",
       "    </tr>\n",
       "    <tr>\n",
       "      <th>...</th>\n",
       "      <td>...</td>\n",
       "      <td>...</td>\n",
       "      <td>...</td>\n",
       "      <td>...</td>\n",
       "    </tr>\n",
       "    <tr>\n",
       "      <th>900</th>\n",
       "      <td>ADUC836</td>\n",
       "      <td>Analog Devices</td>\n",
       "      <td>dual adcs with embedded kb flash mcu featuresh...</td>\n",
       "      <td>microcontroller</td>\n",
       "    </tr>\n",
       "    <tr>\n",
       "      <th>901</th>\n",
       "      <td>ADUC814</td>\n",
       "      <td>Analog Devices</td>\n",
       "      <td>small adc with embedded flash analog ksps adc ...</td>\n",
       "      <td>microcontroller</td>\n",
       "    </tr>\n",
       "    <tr>\n",
       "      <th>902</th>\n",
       "      <td>ADUC816</td>\n",
       "      <td>Analog Devices</td>\n",
       "      <td>microconverter adcs with embedded flash mcu ad...</td>\n",
       "      <td>microcontroller</td>\n",
       "    </tr>\n",
       "    <tr>\n",
       "      <th>903</th>\n",
       "      <td>ADUC824</td>\n",
       "      <td>Analog Devices</td>\n",
       "      <td>microconverter adcs with embedded flash mcu fe...</td>\n",
       "      <td>microcontroller</td>\n",
       "    </tr>\n",
       "    <tr>\n",
       "      <th>904</th>\n",
       "      <td>ADUC812</td>\n",
       "      <td>Analog Devices</td>\n",
       "      <td>microconverter adc with embedded flash mcu fea...</td>\n",
       "      <td>microcontroller</td>\n",
       "    </tr>\n",
       "  </tbody>\n",
       "</table>\n",
       "<p>905 rows × 4 columns</p>\n",
       "</div>"
      ],
      "text/plain": [
       "    product_name    manufacturer  \\\n",
       "0      ADBMS6948  Analog Devices   \n",
       "1      ADBMS6830  Analog Devices   \n",
       "2       ADRF8800  Analog Devices   \n",
       "3      ADBMS6816  Analog Devices   \n",
       "4        LTC2959  Analog Devices   \n",
       "..           ...             ...   \n",
       "900      ADUC836  Analog Devices   \n",
       "901      ADUC814  Analog Devices   \n",
       "902      ADUC816  Analog Devices   \n",
       "903      ADUC824  Analog Devices   \n",
       "904      ADUC812  Analog Devices   \n",
       "\n",
       "                                cleaned_datasheet_text           category  \n",
       "0    preliminary data measures up to battery cells ...  batteryManagement  \n",
       "1    data multicell battery monitor typical applica...  batteryManagement  \n",
       "2    data low power ghz wireless system on chip low...  batteryManagement  \n",
       "3    typical application circuit data multicell bat...  batteryManagement  \n",
       "4    power battery gas gauge descriptionthe is an p...  batteryManagement  \n",
       "..                                                 ...                ...  \n",
       "900  dual adcs with embedded kb flash mcu featuresh...    microcontroller  \n",
       "901  small adc with embedded flash analog ksps adc ...    microcontroller  \n",
       "902  microconverter adcs with embedded flash mcu ad...    microcontroller  \n",
       "903  microconverter adcs with embedded flash mcu fe...    microcontroller  \n",
       "904  microconverter adc with embedded flash mcu fea...    microcontroller  \n",
       "\n",
       "[905 rows x 4 columns]"
      ]
     },
     "execution_count": 1,
     "metadata": {},
     "output_type": "execute_result"
    }
   ],
   "source": [
    "import pandas as pd\n",
    "excel_files = [\"batteryManagement.csv\", \"accelerometer.csv\", \"gyroscope.csv\",\"multivibrators.csv\",\"networkdevices.csv\",\"motors.csv\",\"microcontroller.csv\"]\n",
    "dfs = []\n",
    "for file in excel_files:\n",
    "    df = pd.read_csv(file)\n",
    "    df['category']=file.split(\".\")[0]\n",
    "    dfs.append(df)\n",
    "merged_df = pd.concat(dfs, ignore_index=True)\n",
    "\n",
    "merged_df"
   ]
  },
  {
   "cell_type": "code",
   "execution_count": 2,
   "id": "3dff5bd3",
   "metadata": {},
   "outputs": [],
   "source": [
    "merged_df.dropna(inplace=True)"
   ]
  },
  {
   "cell_type": "code",
   "execution_count": 7,
   "id": "c7faf6fa",
   "metadata": {},
   "outputs": [],
   "source": [
    "import numpy as np\n",
    "import torch\n",
    "from transformers import AutoTokenizer, AutoModel\n",
    "\n",
    "# Load SciBERT tokenizer and model\n",
    "tokenizer = AutoTokenizer.from_pretrained('allenai/scibert_scivocab_uncased')\n",
    "model = AutoModel.from_pretrained('allenai/scibert_scivocab_uncased')\n"
   ]
  },
  {
   "cell_type": "code",
   "execution_count": 30,
   "id": "65e967c2",
   "metadata": {},
   "outputs": [],
   "source": [
    "def get_scibert_embeddings(text):\n",
    "    inputs = tokenizer(text, return_tensors='pt', max_length=256, padding=True, truncation=True)\n",
    "    with torch.no_grad():\n",
    "        outputs = model(**inputs)\n",
    "    embeddings = outputs.last_hidden_state[:, 0, :].numpy()  # Extract embeddings from the [CLS] token\n",
    "    return embeddings"
   ]
  },
  {
   "cell_type": "code",
   "execution_count": 31,
   "id": "045fa8e2",
   "metadata": {},
   "outputs": [],
   "source": [
    "merged_df['embeddings'] = merged_df['cleaned_datasheet_text'].apply(get_scibert_embeddings)"
   ]
  },
  {
   "cell_type": "code",
   "execution_count": 25,
   "id": "10f41d0f",
   "metadata": {},
   "outputs": [],
   "source": [
    "import numpy as np\n",
    "X = np.array(merged_df['embeddings'].tolist())  # Convert list of arrays to a 2D NumPy array\n",
    "X_flattened = np.array([embedding.flatten() for embedding in X])\n",
    "y = merged_df['category']  # Assuming 'category' contains the labels\n"
   ]
  },
  {
   "cell_type": "code",
   "execution_count": 32,
   "id": "8403c656",
   "metadata": {},
   "outputs": [],
   "source": [
    "from sklearn.preprocessing import LabelEncoder\n",
    "\n",
    "label_encoder = LabelEncoder()\n",
    "y_encoded = label_encoder.fit_transform(y)\n"
   ]
  },
  {
   "cell_type": "code",
   "execution_count": 36,
   "id": "60d329af",
   "metadata": {},
   "outputs": [],
   "source": [
    "from sklearn.model_selection import train_test_split\n",
    "from sklearn.naive_bayes import MultinomialNB\n",
    "from sklearn.metrics import accuracy_score, classification_report\n",
    "X_train, X_test, y_train, y_test = train_test_split(X_flattened, y_encoded, test_size=0.1, random_state=42)\n"
   ]
  },
  {
   "cell_type": "code",
   "execution_count": 37,
   "id": "aa98d91f",
   "metadata": {},
   "outputs": [
    {
     "name": "stdout",
     "output_type": "stream",
     "text": [
      "Random Forest Accuracy: 0.8461538461538461\n",
      "              precision    recall  f1-score   support\n",
      "\n",
      "           0       0.75      0.88      0.81        24\n",
      "           1       0.88      0.94      0.91        16\n",
      "           2       1.00      0.50      0.67         4\n",
      "           3       1.00      0.67      0.80         3\n",
      "           4       1.00      0.50      0.67        10\n",
      "           5       1.00      0.67      0.80         3\n",
      "           6       0.86      0.97      0.91        31\n",
      "\n",
      "    accuracy                           0.85        91\n",
      "   macro avg       0.93      0.73      0.79        91\n",
      "weighted avg       0.86      0.85      0.84        91\n",
      "\n"
     ]
    }
   ],
   "source": [
    "from sklearn.ensemble import RandomForestClassifier\n",
    "from sklearn.metrics import classification_report\n",
    "rf_classifier = RandomForestClassifier(n_estimators=100, random_state=42)\n",
    "rf_classifier.fit(X_train, y_train)\n",
    "y_pred = rf_classifier.predict(X_test)\n",
    "print(\"Random Forest Accuracy:\", accuracy_score(y_test, y_pred))\n",
    "report = classification_report(y_test, y_pred)\n",
    "print(report)"
   ]
  },
  {
   "cell_type": "code",
   "execution_count": 38,
   "id": "92be1a4d",
   "metadata": {},
   "outputs": [
    {
     "name": "stdout",
     "output_type": "stream",
     "text": [
      "SVM Accuracy: 0.9340659340659341\n",
      "              precision    recall  f1-score   support\n",
      "\n",
      "           0       1.00      0.92      0.96        24\n",
      "           1       0.94      1.00      0.97        16\n",
      "           2       1.00      1.00      1.00         4\n",
      "           3       1.00      1.00      1.00         3\n",
      "           4       0.73      0.80      0.76        10\n",
      "           5       1.00      1.00      1.00         3\n",
      "           6       0.94      0.94      0.94        31\n",
      "\n",
      "    accuracy                           0.93        91\n",
      "   macro avg       0.94      0.95      0.95        91\n",
      "weighted avg       0.94      0.93      0.94        91\n",
      "\n"
     ]
    }
   ],
   "source": [
    "from sklearn.svm import SVC\n",
    "from sklearn.metrics import classification_report\n",
    "svm_classifier = SVC(kernel='linear')\n",
    "svm_classifier.fit(X_train, y_train)\n",
    "y_pred = svm_classifier.predict(X_test)\n",
    "print(\"SVM Accuracy:\", accuracy_score(y_test, y_pred))\n",
    "report = classification_report(y_test, y_pred)\n",
    "print(report)"
   ]
  },
  {
   "cell_type": "code",
   "execution_count": null,
   "id": "9750593b",
   "metadata": {},
   "outputs": [],
   "source": []
  }
 ],
 "metadata": {
  "kernelspec": {
   "display_name": "Python 3 (ipykernel)",
   "language": "python",
   "name": "python3"
  },
  "language_info": {
   "codemirror_mode": {
    "name": "ipython",
    "version": 3
   },
   "file_extension": ".py",
   "mimetype": "text/x-python",
   "name": "python",
   "nbconvert_exporter": "python",
   "pygments_lexer": "ipython3",
   "version": "3.9.13"
  }
 },
 "nbformat": 4,
 "nbformat_minor": 5
}
