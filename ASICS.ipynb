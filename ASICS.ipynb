{
 "cells": [
  {
   "cell_type": "code",
   "execution_count": 1,
   "id": "1230cd4b",
   "metadata": {},
   "outputs": [
    {
     "data": {
      "text/html": [
       "<div>\n",
       "<style scoped>\n",
       "    .dataframe tbody tr th:only-of-type {\n",
       "        vertical-align: middle;\n",
       "    }\n",
       "\n",
       "    .dataframe tbody tr th {\n",
       "        vertical-align: top;\n",
       "    }\n",
       "\n",
       "    .dataframe thead th {\n",
       "        text-align: right;\n",
       "    }\n",
       "</style>\n",
       "<table border=\"1\" class=\"dataframe\">\n",
       "  <thead>\n",
       "    <tr style=\"text-align: right;\">\n",
       "      <th></th>\n",
       "      <th>product_name</th>\n",
       "      <th>manufacturer</th>\n",
       "      <th>cleaned_datasheet_text</th>\n",
       "      <th>category</th>\n",
       "    </tr>\n",
       "  </thead>\n",
       "  <tbody>\n",
       "    <tr>\n",
       "      <th>0</th>\n",
       "      <td>ADBMS6948</td>\n",
       "      <td>Analog Devices</td>\n",
       "      <td>preliminary data measures up to battery cells ...</td>\n",
       "      <td>batteryManagement</td>\n",
       "    </tr>\n",
       "    <tr>\n",
       "      <th>1</th>\n",
       "      <td>ADBMS6830</td>\n",
       "      <td>Analog Devices</td>\n",
       "      <td>data multicell battery monitor typical applica...</td>\n",
       "      <td>batteryManagement</td>\n",
       "    </tr>\n",
       "    <tr>\n",
       "      <th>2</th>\n",
       "      <td>ADRF8800</td>\n",
       "      <td>Analog Devices</td>\n",
       "      <td>data low power ghz wireless system on chip low...</td>\n",
       "      <td>batteryManagement</td>\n",
       "    </tr>\n",
       "    <tr>\n",
       "      <th>3</th>\n",
       "      <td>ADBMS6816</td>\n",
       "      <td>Analog Devices</td>\n",
       "      <td>typical application circuit data multicell bat...</td>\n",
       "      <td>batteryManagement</td>\n",
       "    </tr>\n",
       "    <tr>\n",
       "      <th>4</th>\n",
       "      <td>LTC2959</td>\n",
       "      <td>Analog Devices</td>\n",
       "      <td>power battery gas gauge descriptionthe is an p...</td>\n",
       "      <td>batteryManagement</td>\n",
       "    </tr>\n",
       "    <tr>\n",
       "      <th>...</th>\n",
       "      <td>...</td>\n",
       "      <td>...</td>\n",
       "      <td>...</td>\n",
       "      <td>...</td>\n",
       "    </tr>\n",
       "    <tr>\n",
       "      <th>900</th>\n",
       "      <td>ADUC836</td>\n",
       "      <td>Analog Devices</td>\n",
       "      <td>dual adcs with embedded kb flash mcu featuresh...</td>\n",
       "      <td>microcontroller</td>\n",
       "    </tr>\n",
       "    <tr>\n",
       "      <th>901</th>\n",
       "      <td>ADUC814</td>\n",
       "      <td>Analog Devices</td>\n",
       "      <td>small adc with embedded flash analog ksps adc ...</td>\n",
       "      <td>microcontroller</td>\n",
       "    </tr>\n",
       "    <tr>\n",
       "      <th>902</th>\n",
       "      <td>ADUC816</td>\n",
       "      <td>Analog Devices</td>\n",
       "      <td>microconverter adcs with embedded flash mcu ad...</td>\n",
       "      <td>microcontroller</td>\n",
       "    </tr>\n",
       "    <tr>\n",
       "      <th>903</th>\n",
       "      <td>ADUC824</td>\n",
       "      <td>Analog Devices</td>\n",
       "      <td>microconverter adcs with embedded flash mcu fe...</td>\n",
       "      <td>microcontroller</td>\n",
       "    </tr>\n",
       "    <tr>\n",
       "      <th>904</th>\n",
       "      <td>ADUC812</td>\n",
       "      <td>Analog Devices</td>\n",
       "      <td>microconverter adc with embedded flash mcu fea...</td>\n",
       "      <td>microcontroller</td>\n",
       "    </tr>\n",
       "  </tbody>\n",
       "</table>\n",
       "<p>905 rows × 4 columns</p>\n",
       "</div>"
      ],
      "text/plain": [
       "    product_name    manufacturer  \\\n",
       "0      ADBMS6948  Analog Devices   \n",
       "1      ADBMS6830  Analog Devices   \n",
       "2       ADRF8800  Analog Devices   \n",
       "3      ADBMS6816  Analog Devices   \n",
       "4        LTC2959  Analog Devices   \n",
       "..           ...             ...   \n",
       "900      ADUC836  Analog Devices   \n",
       "901      ADUC814  Analog Devices   \n",
       "902      ADUC816  Analog Devices   \n",
       "903      ADUC824  Analog Devices   \n",
       "904      ADUC812  Analog Devices   \n",
       "\n",
       "                                cleaned_datasheet_text           category  \n",
       "0    preliminary data measures up to battery cells ...  batteryManagement  \n",
       "1    data multicell battery monitor typical applica...  batteryManagement  \n",
       "2    data low power ghz wireless system on chip low...  batteryManagement  \n",
       "3    typical application circuit data multicell bat...  batteryManagement  \n",
       "4    power battery gas gauge descriptionthe is an p...  batteryManagement  \n",
       "..                                                 ...                ...  \n",
       "900  dual adcs with embedded kb flash mcu featuresh...    microcontroller  \n",
       "901  small adc with embedded flash analog ksps adc ...    microcontroller  \n",
       "902  microconverter adcs with embedded flash mcu ad...    microcontroller  \n",
       "903  microconverter adcs with embedded flash mcu fe...    microcontroller  \n",
       "904  microconverter adc with embedded flash mcu fea...    microcontroller  \n",
       "\n",
       "[905 rows x 4 columns]"
      ]
     },
     "execution_count": 1,
     "metadata": {},
     "output_type": "execute_result"
    }
   ],
   "source": [
    "import pandas as pd\n",
    "excel_files = [\"batteryManagement.csv\", \"accelerometer.csv\", \"gyroscope.csv\",\"multivibrators.csv\",\"networkdevices.csv\",\"motors.csv\",\"microcontroller.csv\"]\n",
    "dfs = []\n",
    "for file in excel_files:\n",
    "    df = pd.read_csv(file)\n",
    "    df['category']=file.split(\".\")[0]\n",
    "    dfs.append(df)\n",
    "merged_df = pd.concat(dfs, ignore_index=True)\n",
    "\n",
    "merged_df"
   ]
  },
  {
   "cell_type": "code",
   "execution_count": 13,
   "id": "05ca8138",
   "metadata": {},
   "outputs": [
    {
     "data": {
      "text/html": [
       "<div>\n",
       "<style scoped>\n",
       "    .dataframe tbody tr th:only-of-type {\n",
       "        vertical-align: middle;\n",
       "    }\n",
       "\n",
       "    .dataframe tbody tr th {\n",
       "        vertical-align: top;\n",
       "    }\n",
       "\n",
       "    .dataframe thead th {\n",
       "        text-align: right;\n",
       "    }\n",
       "</style>\n",
       "<table border=\"1\" class=\"dataframe\">\n",
       "  <thead>\n",
       "    <tr style=\"text-align: right;\">\n",
       "      <th></th>\n",
       "      <th>product_name</th>\n",
       "      <th>manufacturer</th>\n",
       "      <th>cleaned_datasheet_text</th>\n",
       "      <th>category</th>\n",
       "    </tr>\n",
       "  </thead>\n",
       "  <tbody>\n",
       "    <tr>\n",
       "      <th>0</th>\n",
       "      <td>ADBMS6948</td>\n",
       "      <td>Analog Devices</td>\n",
       "      <td>preliminary data measures up to battery cells ...</td>\n",
       "      <td>batteryManagement</td>\n",
       "    </tr>\n",
       "    <tr>\n",
       "      <th>1</th>\n",
       "      <td>ADBMS6830</td>\n",
       "      <td>Analog Devices</td>\n",
       "      <td>data multicell battery monitor typical applica...</td>\n",
       "      <td>batteryManagement</td>\n",
       "    </tr>\n",
       "    <tr>\n",
       "      <th>2</th>\n",
       "      <td>ADRF8800</td>\n",
       "      <td>Analog Devices</td>\n",
       "      <td>data low power ghz wireless system on chip low...</td>\n",
       "      <td>batteryManagement</td>\n",
       "    </tr>\n",
       "    <tr>\n",
       "      <th>3</th>\n",
       "      <td>ADBMS6816</td>\n",
       "      <td>Analog Devices</td>\n",
       "      <td>typical application circuit data multicell bat...</td>\n",
       "      <td>batteryManagement</td>\n",
       "    </tr>\n",
       "    <tr>\n",
       "      <th>4</th>\n",
       "      <td>LTC2959</td>\n",
       "      <td>Analog Devices</td>\n",
       "      <td>power battery gas gauge descriptionthe is an p...</td>\n",
       "      <td>batteryManagement</td>\n",
       "    </tr>\n",
       "    <tr>\n",
       "      <th>...</th>\n",
       "      <td>...</td>\n",
       "      <td>...</td>\n",
       "      <td>...</td>\n",
       "      <td>...</td>\n",
       "    </tr>\n",
       "    <tr>\n",
       "      <th>395</th>\n",
       "      <td>ADXRS620BBGZ</td>\n",
       "      <td>Analog Devices Inc.</td>\n",
       "      <td>qualified for automotive applications complete...</td>\n",
       "      <td>gyroscope</td>\n",
       "    </tr>\n",
       "    <tr>\n",
       "      <th>396</th>\n",
       "      <td>FXAS21002CQR1</td>\n",
       "      <td>NXP USA Inc.</td>\n",
       "      <td>freescale semiconductor sheet technical data d...</td>\n",
       "      <td>gyroscope</td>\n",
       "    </tr>\n",
       "    <tr>\n",
       "      <th>397</th>\n",
       "      <td>ADXRS649BBGZ</td>\n",
       "      <td>Analog Devices Inc.</td>\n",
       "      <td>data sheet high vibration rejection over wide ...</td>\n",
       "      <td>gyroscope</td>\n",
       "    </tr>\n",
       "    <tr>\n",
       "      <th>398</th>\n",
       "      <td>ADIS16265BCCZ</td>\n",
       "      <td>Analog Devices Inc.</td>\n",
       "      <td>data sheet programmable digital gyroscope feat...</td>\n",
       "      <td>gyroscope</td>\n",
       "    </tr>\n",
       "    <tr>\n",
       "      <th>399</th>\n",
       "      <td>ADXRS646TBGZ-EP</td>\n",
       "      <td>Analog Devices Inc.</td>\n",
       "      <td>enhanced product high stability low noise vibr...</td>\n",
       "      <td>gyroscope</td>\n",
       "    </tr>\n",
       "  </tbody>\n",
       "</table>\n",
       "<p>400 rows × 4 columns</p>\n",
       "</div>"
      ],
      "text/plain": [
       "        product_name         manufacturer  \\\n",
       "0          ADBMS6948       Analog Devices   \n",
       "1          ADBMS6830       Analog Devices   \n",
       "2           ADRF8800       Analog Devices   \n",
       "3          ADBMS6816       Analog Devices   \n",
       "4            LTC2959       Analog Devices   \n",
       "..               ...                  ...   \n",
       "395     ADXRS620BBGZ  Analog Devices Inc.   \n",
       "396    FXAS21002CQR1         NXP USA Inc.   \n",
       "397     ADXRS649BBGZ  Analog Devices Inc.   \n",
       "398    ADIS16265BCCZ  Analog Devices Inc.   \n",
       "399  ADXRS646TBGZ-EP  Analog Devices Inc.   \n",
       "\n",
       "                                cleaned_datasheet_text           category  \n",
       "0    preliminary data measures up to battery cells ...  batteryManagement  \n",
       "1    data multicell battery monitor typical applica...  batteryManagement  \n",
       "2    data low power ghz wireless system on chip low...  batteryManagement  \n",
       "3    typical application circuit data multicell bat...  batteryManagement  \n",
       "4    power battery gas gauge descriptionthe is an p...  batteryManagement  \n",
       "..                                                 ...                ...  \n",
       "395  qualified for automotive applications complete...          gyroscope  \n",
       "396  freescale semiconductor sheet technical data d...          gyroscope  \n",
       "397  data sheet high vibration rejection over wide ...          gyroscope  \n",
       "398  data sheet programmable digital gyroscope feat...          gyroscope  \n",
       "399  enhanced product high stability low noise vibr...          gyroscope  \n",
       "\n",
       "[400 rows x 4 columns]"
      ]
     },
     "execution_count": 13,
     "metadata": {},
     "output_type": "execute_result"
    }
   ],
   "source": [
    "merged_df.head(400)"
   ]
  },
  {
   "cell_type": "code",
   "execution_count": 14,
   "id": "bc9d7b2f",
   "metadata": {},
   "outputs": [],
   "source": [
    "unique_values = merged_df['category'].unique()"
   ]
  },
  {
   "cell_type": "code",
   "execution_count": 15,
   "id": "ce188972",
   "metadata": {},
   "outputs": [
    {
     "data": {
      "text/plain": [
       "7"
      ]
     },
     "execution_count": 15,
     "metadata": {},
     "output_type": "execute_result"
    }
   ],
   "source": [
    "len(unique_values)"
   ]
  },
  {
   "cell_type": "code",
   "execution_count": 16,
   "id": "71dd9c1a",
   "metadata": {},
   "outputs": [
    {
     "data": {
      "text/plain": [
       "product_name              0\n",
       "manufacturer              0\n",
       "cleaned_datasheet_text    1\n",
       "category                  0\n",
       "dtype: int64"
      ]
     },
     "execution_count": 16,
     "metadata": {},
     "output_type": "execute_result"
    }
   ],
   "source": [
    "merged_df.isnull().sum()"
   ]
  },
  {
   "cell_type": "code",
   "execution_count": 2,
   "id": "078e30f1",
   "metadata": {},
   "outputs": [],
   "source": [
    "merged_df.dropna(inplace=True)"
   ]
  },
  {
   "cell_type": "code",
   "execution_count": null,
   "id": "62c0bbf8",
   "metadata": {},
   "outputs": [],
   "source": []
  },
  {
   "cell_type": "code",
   "execution_count": null,
   "id": "530d2220",
   "metadata": {},
   "outputs": [],
   "source": []
  },
  {
   "cell_type": "code",
   "execution_count": 3,
   "id": "fb4173a5",
   "metadata": {},
   "outputs": [],
   "source": []
  },
  {
   "cell_type": "code",
   "execution_count": 7,
   "id": "11c480a7",
   "metadata": {},
   "outputs": [],
   "source": [
    "from sklearn.feature_extraction.text import TfidfVectorizer\n",
    "from sklearn.naive_bayes import MultinomialNB\n",
    "from sklearn.metrics import accuracy_score, classification_report\n",
    "from sklearn.model_selection import train_test_split\n",
    "\n",
    "X = merged_df['cleaned_datasheet_text']\n",
    "y = merged_df['category']\n",
    "\n",
    "X_train, X_test, y_train, y_test = train_test_split(X, y,test_size=0.2,stratify=y, random_state=42)\n",
    "\n",
    "tfidf_vectorizer = TfidfVectorizer(stop_words='english')\n",
    "X_train_tfidf = tfidf_vectorizer.fit_transform(X_train)\n",
    "X_test_tfidf = tfidf_vectorizer.transform(X_test)\n",
    "\n"
   ]
  },
  {
   "cell_type": "code",
   "execution_count": 12,
   "id": "4dde1e30",
   "metadata": {},
   "outputs": [
    {
     "name": "stdout",
     "output_type": "stream",
     "text": [
      "Accuracy: 0.7955801104972375\n",
      "                   precision    recall  f1-score   support\n",
      "\n",
      "    accelerometer       0.59      0.98      0.74        45\n",
      "batteryManagement       1.00      0.94      0.97        33\n",
      "        gyroscope       0.00      0.00      0.00         9\n",
      "  microcontroller       0.00      0.00      0.00         8\n",
      "           motors       1.00      0.45      0.62        20\n",
      "   multivibrators       0.00      0.00      0.00         6\n",
      "   networkdevices       0.90      1.00      0.94        60\n",
      "\n",
      "         accuracy                           0.80       181\n",
      "        macro avg       0.50      0.48      0.47       181\n",
      "     weighted avg       0.74      0.80      0.74       181\n",
      "\n"
     ]
    },
    {
     "name": "stderr",
     "output_type": "stream",
     "text": [
      "C:\\Users\\soumi\\anaconda3\\lib\\site-packages\\sklearn\\metrics\\_classification.py:1318: UndefinedMetricWarning: Precision and F-score are ill-defined and being set to 0.0 in labels with no predicted samples. Use `zero_division` parameter to control this behavior.\n",
      "  _warn_prf(average, modifier, msg_start, len(result))\n",
      "C:\\Users\\soumi\\anaconda3\\lib\\site-packages\\sklearn\\metrics\\_classification.py:1318: UndefinedMetricWarning: Precision and F-score are ill-defined and being set to 0.0 in labels with no predicted samples. Use `zero_division` parameter to control this behavior.\n",
      "  _warn_prf(average, modifier, msg_start, len(result))\n",
      "C:\\Users\\soumi\\anaconda3\\lib\\site-packages\\sklearn\\metrics\\_classification.py:1318: UndefinedMetricWarning: Precision and F-score are ill-defined and being set to 0.0 in labels with no predicted samples. Use `zero_division` parameter to control this behavior.\n",
      "  _warn_prf(average, modifier, msg_start, len(result))\n"
     ]
    }
   ],
   "source": [
    "nb_classifier = MultinomialNB()\n",
    "nb_classifier.fit(X_train_tfidf, y_train)\n",
    "y_pred = nb_classifier.predict(X_test_tfidf)\n",
    "accuracy = accuracy_score(y_test, y_pred)\n",
    "print(\"Accuracy:\", accuracy)\n",
    "report = classification_report(y_test, y_pred)\n",
    "print(report)"
   ]
  },
  {
   "cell_type": "code",
   "execution_count": 13,
   "id": "06e4aac3",
   "metadata": {},
   "outputs": [
    {
     "name": "stdout",
     "output_type": "stream",
     "text": [
      "Random Forest Accuracy: 0.9447513812154696\n",
      "                   precision    recall  f1-score   support\n",
      "\n",
      "    accelerometer       0.94      0.98      0.96        45\n",
      "batteryManagement       1.00      0.97      0.98        33\n",
      "        gyroscope       1.00      0.78      0.88         9\n",
      "  microcontroller       1.00      1.00      1.00         8\n",
      "           motors       1.00      0.70      0.82        20\n",
      "   multivibrators       1.00      1.00      1.00         6\n",
      "   networkdevices       0.90      1.00      0.94        60\n",
      "\n",
      "         accuracy                           0.94       181\n",
      "        macro avg       0.98      0.92      0.94       181\n",
      "     weighted avg       0.95      0.94      0.94       181\n",
      "\n"
     ]
    }
   ],
   "source": [
    "from sklearn.ensemble import RandomForestClassifier\n",
    "from sklearn.metrics import classification_report\n",
    "rf_classifier = RandomForestClassifier(n_estimators=100, random_state=42)\n",
    "rf_classifier.fit(X_train_tfidf, y_train)\n",
    "y_pred = rf_classifier.predict(X_test_tfidf)\n",
    "print(\"Random Forest Accuracy:\", accuracy_score(y_test, y_pred))\n",
    "report = classification_report(y_test, y_pred)\n",
    "print(report)"
   ]
  },
  {
   "cell_type": "code",
   "execution_count": 14,
   "id": "ce394805",
   "metadata": {},
   "outputs": [
    {
     "name": "stdout",
     "output_type": "stream",
     "text": [
      "SVM Accuracy: 0.9613259668508287\n",
      "                   precision    recall  f1-score   support\n",
      "\n",
      "    accelerometer       0.96      0.96      0.96        45\n",
      "batteryManagement       1.00      0.97      0.98        33\n",
      "        gyroscope       1.00      0.89      0.94         9\n",
      "  microcontroller       1.00      1.00      1.00         8\n",
      "           motors       1.00      0.90      0.95        20\n",
      "   multivibrators       1.00      1.00      1.00         6\n",
      "   networkdevices       0.92      0.98      0.95        60\n",
      "\n",
      "         accuracy                           0.96       181\n",
      "        macro avg       0.98      0.96      0.97       181\n",
      "     weighted avg       0.96      0.96      0.96       181\n",
      "\n"
     ]
    }
   ],
   "source": [
    "from sklearn.svm import SVC\n",
    "from sklearn.metrics import classification_report\n",
    "svm_classifier = SVC(kernel='linear')\n",
    "svm_classifier.fit(X_train_tfidf, y_train)\n",
    "y_pred = svm_classifier.predict(X_test_tfidf)\n",
    "print(\"SVM Accuracy:\", accuracy_score(y_test, y_pred))\n",
    "report = classification_report(y_test, y_pred)\n",
    "print(report)"
   ]
  },
  {
   "cell_type": "code",
   "execution_count": null,
   "id": "50cd32ed",
   "metadata": {},
   "outputs": [],
   "source": []
  },
  {
   "cell_type": "code",
   "execution_count": null,
   "id": "3960e32c",
   "metadata": {},
   "outputs": [],
   "source": []
  }
 ],
 "metadata": {
  "kernelspec": {
   "display_name": "Python 3 (ipykernel)",
   "language": "python",
   "name": "python3"
  },
  "language_info": {
   "codemirror_mode": {
    "name": "ipython",
    "version": 3
   },
   "file_extension": ".py",
   "mimetype": "text/x-python",
   "name": "python",
   "nbconvert_exporter": "python",
   "pygments_lexer": "ipython3",
   "version": "3.9.13"
  }
 },
 "nbformat": 4,
 "nbformat_minor": 5
}
